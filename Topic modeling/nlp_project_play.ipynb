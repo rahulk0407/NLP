{
  "nbformat": 4,
  "nbformat_minor": 0,
  "metadata": {
    "colab": {
      "name": "nlp_project_play.ipynb",
      "provenance": []
    },
    "kernelspec": {
      "name": "python3",
      "display_name": "Python 3"
    }
  },
  "cells": [
    {
      "cell_type": "code",
      "metadata": {
        "id": "i2xaJGMdANkP",
        "colab_type": "code",
        "colab": {
          "base_uri": "https://localhost:8080/",
          "height": 70
        },
        "outputId": "8a9062b7-8d12-4535-e8f1-47f7b33809f9"
      },
      "source": [
        "import pandas as pd\n",
        "import numpy as np\n",
        "import matplotlib.pyplot as plt\n",
        "import seaborn as sns"
      ],
      "execution_count": null,
      "outputs": [
        {
          "output_type": "stream",
          "text": [
            "/usr/local/lib/python3.6/dist-packages/statsmodels/tools/_testing.py:19: FutureWarning: pandas.util.testing is deprecated. Use the functions in the public API at pandas.testing instead.\n",
            "  import pandas.util.testing as tm\n"
          ],
          "name": "stderr"
        }
      ]
    },
    {
      "cell_type": "code",
      "metadata": {
        "id": "xNhLJCNYBGtK",
        "colab_type": "code",
        "colab": {}
      },
      "source": [
        "data=pd.read_csv('/K8 Reviews v0.2.csv')"
      ],
      "execution_count": null,
      "outputs": []
    },
    {
      "cell_type": "code",
      "metadata": {
        "id": "rnYUbnqQBKxx",
        "colab_type": "code",
        "colab": {
          "base_uri": "https://localhost:8080/",
          "height": 195
        },
        "outputId": "30601bf9-388a-4520-b907-e98c6fada808"
      },
      "source": [
        "data.head(5)"
      ],
      "execution_count": null,
      "outputs": [
        {
          "output_type": "execute_result",
          "data": {
            "text/html": [
              "<div>\n",
              "<style scoped>\n",
              "    .dataframe tbody tr th:only-of-type {\n",
              "        vertical-align: middle;\n",
              "    }\n",
              "\n",
              "    .dataframe tbody tr th {\n",
              "        vertical-align: top;\n",
              "    }\n",
              "\n",
              "    .dataframe thead th {\n",
              "        text-align: right;\n",
              "    }\n",
              "</style>\n",
              "<table border=\"1\" class=\"dataframe\">\n",
              "  <thead>\n",
              "    <tr style=\"text-align: right;\">\n",
              "      <th></th>\n",
              "      <th>sentiment</th>\n",
              "      <th>review</th>\n",
              "    </tr>\n",
              "  </thead>\n",
              "  <tbody>\n",
              "    <tr>\n",
              "      <th>0</th>\n",
              "      <td>1</td>\n",
              "      <td>Good but need updates and improvements</td>\n",
              "    </tr>\n",
              "    <tr>\n",
              "      <th>1</th>\n",
              "      <td>0</td>\n",
              "      <td>Worst mobile i have bought ever, Battery is dr...</td>\n",
              "    </tr>\n",
              "    <tr>\n",
              "      <th>2</th>\n",
              "      <td>1</td>\n",
              "      <td>when I will get my 10% cash back.... its alrea...</td>\n",
              "    </tr>\n",
              "    <tr>\n",
              "      <th>3</th>\n",
              "      <td>1</td>\n",
              "      <td>Good</td>\n",
              "    </tr>\n",
              "    <tr>\n",
              "      <th>4</th>\n",
              "      <td>0</td>\n",
              "      <td>The worst phone everThey have changed the last...</td>\n",
              "    </tr>\n",
              "  </tbody>\n",
              "</table>\n",
              "</div>"
            ],
            "text/plain": [
              "   sentiment                                             review\n",
              "0          1             Good but need updates and improvements\n",
              "1          0  Worst mobile i have bought ever, Battery is dr...\n",
              "2          1  when I will get my 10% cash back.... its alrea...\n",
              "3          1                                               Good\n",
              "4          0  The worst phone everThey have changed the last..."
            ]
          },
          "metadata": {
            "tags": []
          },
          "execution_count": 3
        }
      ]
    },
    {
      "cell_type": "code",
      "metadata": {
        "id": "DJjwkcVQBQAH",
        "colab_type": "code",
        "colab": {
          "base_uri": "https://localhost:8080/",
          "height": 168
        },
        "outputId": "712fd1f1-cee1-4387-885a-9edfc9cd9b7a"
      },
      "source": [
        "data.info()"
      ],
      "execution_count": null,
      "outputs": [
        {
          "output_type": "stream",
          "text": [
            "<class 'pandas.core.frame.DataFrame'>\n",
            "RangeIndex: 14675 entries, 0 to 14674\n",
            "Data columns (total 2 columns):\n",
            " #   Column     Non-Null Count  Dtype \n",
            "---  ------     --------------  ----- \n",
            " 0   sentiment  14675 non-null  int64 \n",
            " 1   review     14675 non-null  object\n",
            "dtypes: int64(1), object(1)\n",
            "memory usage: 229.4+ KB\n"
          ],
          "name": "stdout"
        }
      ]
    },
    {
      "cell_type": "code",
      "metadata": {
        "id": "vXJFd_CRBSRm",
        "colab_type": "code",
        "colab": {
          "base_uri": "https://localhost:8080/",
          "height": 67
        },
        "outputId": "7bdd2cab-6a01-42f8-95dd-e76131cf802c"
      },
      "source": [
        "data.isnull().sum()"
      ],
      "execution_count": null,
      "outputs": [
        {
          "output_type": "execute_result",
          "data": {
            "text/plain": [
              "sentiment    0\n",
              "review       0\n",
              "dtype: int64"
            ]
          },
          "metadata": {
            "tags": []
          },
          "execution_count": 5
        }
      ]
    },
    {
      "cell_type": "code",
      "metadata": {
        "id": "7-c6S9IBBVFQ",
        "colab_type": "code",
        "colab": {
          "base_uri": "https://localhost:8080/",
          "height": 284
        },
        "outputId": "9642bc3f-a6b6-4ea8-d27a-029281e93a74"
      },
      "source": [
        "data.describe()"
      ],
      "execution_count": null,
      "outputs": [
        {
          "output_type": "execute_result",
          "data": {
            "text/html": [
              "<div>\n",
              "<style scoped>\n",
              "    .dataframe tbody tr th:only-of-type {\n",
              "        vertical-align: middle;\n",
              "    }\n",
              "\n",
              "    .dataframe tbody tr th {\n",
              "        vertical-align: top;\n",
              "    }\n",
              "\n",
              "    .dataframe thead th {\n",
              "        text-align: right;\n",
              "    }\n",
              "</style>\n",
              "<table border=\"1\" class=\"dataframe\">\n",
              "  <thead>\n",
              "    <tr style=\"text-align: right;\">\n",
              "      <th></th>\n",
              "      <th>sentiment</th>\n",
              "    </tr>\n",
              "  </thead>\n",
              "  <tbody>\n",
              "    <tr>\n",
              "      <th>count</th>\n",
              "      <td>14675.000000</td>\n",
              "    </tr>\n",
              "    <tr>\n",
              "      <th>mean</th>\n",
              "      <td>0.474480</td>\n",
              "    </tr>\n",
              "    <tr>\n",
              "      <th>std</th>\n",
              "      <td>0.499365</td>\n",
              "    </tr>\n",
              "    <tr>\n",
              "      <th>min</th>\n",
              "      <td>0.000000</td>\n",
              "    </tr>\n",
              "    <tr>\n",
              "      <th>25%</th>\n",
              "      <td>0.000000</td>\n",
              "    </tr>\n",
              "    <tr>\n",
              "      <th>50%</th>\n",
              "      <td>0.000000</td>\n",
              "    </tr>\n",
              "    <tr>\n",
              "      <th>75%</th>\n",
              "      <td>1.000000</td>\n",
              "    </tr>\n",
              "    <tr>\n",
              "      <th>max</th>\n",
              "      <td>1.000000</td>\n",
              "    </tr>\n",
              "  </tbody>\n",
              "</table>\n",
              "</div>"
            ],
            "text/plain": [
              "          sentiment\n",
              "count  14675.000000\n",
              "mean       0.474480\n",
              "std        0.499365\n",
              "min        0.000000\n",
              "25%        0.000000\n",
              "50%        0.000000\n",
              "75%        1.000000\n",
              "max        1.000000"
            ]
          },
          "metadata": {
            "tags": []
          },
          "execution_count": 6
        }
      ]
    },
    {
      "cell_type": "markdown",
      "metadata": {
        "id": "EVpxncjcB7G0",
        "colab_type": "text"
      },
      "source": [
        "#let see if the data is balanced"
      ]
    },
    {
      "cell_type": "code",
      "metadata": {
        "id": "_YGlNXlcBW1v",
        "colab_type": "code",
        "colab": {
          "base_uri": "https://localhost:8080/",
          "height": 67
        },
        "outputId": "e978da4c-b5f5-465a-e115-62241add363e"
      },
      "source": [
        "data.sentiment.value_counts()"
      ],
      "execution_count": null,
      "outputs": [
        {
          "output_type": "execute_result",
          "data": {
            "text/plain": [
              "0    7712\n",
              "1    6963\n",
              "Name: sentiment, dtype: int64"
            ]
          },
          "metadata": {
            "tags": []
          },
          "execution_count": 7
        }
      ]
    },
    {
      "cell_type": "markdown",
      "metadata": {
        "id": "-ECCQNv6B_v-",
        "colab_type": "text"
      },
      "source": [
        "we can see that data is almost balanced."
      ]
    },
    {
      "cell_type": "code",
      "metadata": {
        "id": "MtqD82vrB4T_",
        "colab_type": "code",
        "colab": {}
      },
      "source": [
        "text=data.review"
      ],
      "execution_count": null,
      "outputs": []
    },
    {
      "cell_type": "code",
      "metadata": {
        "id": "pAOd0ewBN7be",
        "colab_type": "code",
        "colab": {
          "base_uri": "https://localhost:8080/",
          "height": 34
        },
        "outputId": "20f125f9-1995-474b-e7b2-6e16ae57f909"
      },
      "source": [
        "type(text)"
      ],
      "execution_count": null,
      "outputs": [
        {
          "output_type": "execute_result",
          "data": {
            "text/plain": [
              "pandas.core.series.Series"
            ]
          },
          "metadata": {
            "tags": []
          },
          "execution_count": 9
        }
      ]
    },
    {
      "cell_type": "code",
      "metadata": {
        "id": "T93IB-OhOIEV",
        "colab_type": "code",
        "colab": {}
      },
      "source": [
        "from tensorflow import keras\n",
        "\n",
        "\n",
        "from tensorflow.keras.preprocessing.text import Tokenizer\n",
        "from tensorflow.keras.preprocessing.sequence import pad_sequences"
      ],
      "execution_count": null,
      "outputs": []
    },
    {
      "cell_type": "code",
      "metadata": {
        "id": "jIdfB98xOM0t",
        "colab_type": "code",
        "colab": {}
      },
      "source": [
        "import re\n",
        "text=[x.lower() for x in text]"
      ],
      "execution_count": null,
      "outputs": []
    },
    {
      "cell_type": "code",
      "metadata": {
        "id": "jw0n57P0SNio",
        "colab_type": "code",
        "colab": {}
      },
      "source": [
        "text= [re.sub(\"\\d+\",\"\", twt) for twt in text]"
      ],
      "execution_count": null,
      "outputs": []
    },
    {
      "cell_type": "code",
      "metadata": {
        "id": "ooOMPtXMhBRs",
        "colab_type": "code",
        "colab": {}
      },
      "source": [
        "text= [re.sub(\"\\W+\",\" \", twt) for twt in text]"
      ],
      "execution_count": null,
      "outputs": []
    },
    {
      "cell_type": "code",
      "metadata": {
        "id": "tuAdorA9Spf2",
        "colab_type": "code",
        "colab": {}
      },
      "source": [
        "import string\n",
        "punct= set(string.punctuation)"
      ],
      "execution_count": null,
      "outputs": []
    },
    {
      "cell_type": "code",
      "metadata": {
        "id": "5ZDqDblLS0BC",
        "colab_type": "code",
        "colab": {}
      },
      "source": [
        "#text1= [[' '.join(ch for ch in x.split() if ch not in punct)] for x in text ]\n",
        "text1=text.copy()"
      ],
      "execution_count": null,
      "outputs": []
    },
    {
      "cell_type": "code",
      "metadata": {
        "id": "qcM2tiz6ouq5",
        "colab_type": "code",
        "colab": {
          "base_uri": "https://localhost:8080/",
          "height": 121
        },
        "outputId": "8ce842fb-d85b-486f-d41e-bb14c6843c74"
      },
      "source": [
        "text[:5]"
      ],
      "execution_count": null,
      "outputs": [
        {
          "output_type": "execute_result",
          "data": {
            "text/plain": [
              "['good but need updates and improvements',\n",
              " 'worst mobile i have bought ever battery is draining like hell backup is only to hours with internet uses even if i put mobile idle its getting discharged this is biggest lie from amazon lenove which is not at all expected they are making full by saying that battery is mah booster charger is fake it takes at least to hours to be fully charged don t know how lenovo will survive by making full of us please don t go for this else you will regret like me ',\n",
              " 'when i will get my cash back its already january ',\n",
              " 'good',\n",
              " 'the worst phone everthey have changed the last phone but the problem is still same and the amazon is not returning the phone highly disappointing of amazon']"
            ]
          },
          "metadata": {
            "tags": []
          },
          "execution_count": 16
        }
      ]
    },
    {
      "cell_type": "code",
      "metadata": {
        "id": "O1iJdgy0DqLq",
        "colab_type": "code",
        "colab": {}
      },
      "source": [
        ""
      ],
      "execution_count": null,
      "outputs": []
    },
    {
      "cell_type": "code",
      "metadata": {
        "id": "qdEsv4lnN4q9",
        "colab_type": "code",
        "colab": {
          "base_uri": "https://localhost:8080/",
          "height": 50
        },
        "outputId": "471afcd1-c4f4-4b6e-d419-46783006aa5b"
      },
      "source": [
        "\n",
        "charfilter = re.compile('[a-zA-Z]+');\n",
        "\n",
        "import nltk\n",
        "nltk.download('stopwords')\n",
        "from nltk.tokenize import word_tokenize\n",
        "from nltk.corpus import stopwords\n",
        "from nltk.stem.porter import PorterStemmer\n",
        "stopWords = stopwords.words('english')\n",
        "\n",
        "def SimpleTokenizer(text):\n",
        "  words = map(lambda word: word.lower(), word_tokenize(text))\n",
        "  words = [word for word in words if word not in stopWords]\n",
        "  tokens = (list(map(lambda token: PorterStemmer().stem(token),words)))\n",
        "  ntokens = list(filter(lambda token:charfilter.match(token),tokens))\n",
        "  return ntokens"
      ],
      "execution_count": null,
      "outputs": [
        {
          "output_type": "stream",
          "text": [
            "[nltk_data] Downloading package stopwords to /root/nltk_data...\n",
            "[nltk_data]   Unzipping corpora/stopwords.zip.\n"
          ],
          "name": "stdout"
        }
      ]
    },
    {
      "cell_type": "code",
      "metadata": {
        "id": "NF8efMJDeYvL",
        "colab_type": "code",
        "colab": {
          "base_uri": "https://localhost:8080/",
          "height": 50
        },
        "outputId": "8903aef1-a7ce-48ba-fd0d-ae8e5019d8c2"
      },
      "source": [
        "nltk.download('punkt')\n",
        "c=word_tokenize('hi how are you')"
      ],
      "execution_count": null,
      "outputs": [
        {
          "output_type": "stream",
          "text": [
            "[nltk_data] Downloading package punkt to /root/nltk_data...\n",
            "[nltk_data]   Unzipping tokenizers/punkt.zip.\n"
          ],
          "name": "stdout"
        }
      ]
    },
    {
      "cell_type": "code",
      "metadata": {
        "id": "8CngJh8_eaKG",
        "colab_type": "code",
        "colab": {}
      },
      "source": [
        "text1 = [[' '.join(word for word in c.split()  if not word in stopwords.words(\"english\"))] for c in text1]"
      ],
      "execution_count": null,
      "outputs": []
    },
    {
      "cell_type": "code",
      "metadata": {
        "id": "uPW0LOwhgOft",
        "colab_type": "code",
        "colab": {
          "base_uri": "https://localhost:8080/",
          "height": 121
        },
        "outputId": "84357f2f-e55d-4963-a40c-315420238a15"
      },
      "source": [
        "text1[:5]"
      ],
      "execution_count": null,
      "outputs": [
        {
          "output_type": "execute_result",
          "data": {
            "text/plain": [
              "[['good need updates improvements'],\n",
              " ['worst mobile bought ever battery draining like hell backup hours internet uses even put mobile idle getting discharged biggest lie amazon lenove expected making full saying battery mah booster charger fake takes least hours fully charged know lenovo survive making full us please go else regret like'],\n",
              " ['get cash back already january'],\n",
              " ['good'],\n",
              " ['worst phone everthey changed last phone problem still amazon returning phone highly disappointing amazon']]"
            ]
          },
          "metadata": {
            "tags": []
          },
          "execution_count": 20
        }
      ]
    },
    {
      "cell_type": "code",
      "metadata": {
        "id": "LbvFki2fmiud",
        "colab_type": "code",
        "colab": {}
      },
      "source": [
        "porter = nltk.PorterStemmer()\n",
        "text2 = [[[' '.join(porter.stem(word) for word in c.split())]for c in x] for x in text1]\n"
      ],
      "execution_count": null,
      "outputs": []
    },
    {
      "cell_type": "code",
      "metadata": {
        "id": "8VZ-mNsrpAaP",
        "colab_type": "code",
        "colab": {
          "base_uri": "https://localhost:8080/",
          "height": 121
        },
        "outputId": "49993ab0-56ed-474d-84b5-5a804fb2d034"
      },
      "source": [
        "text2[:5]"
      ],
      "execution_count": null,
      "outputs": [
        {
          "output_type": "execute_result",
          "data": {
            "text/plain": [
              "[[['good need updat improv']],\n",
              " [['worst mobil bought ever batteri drain like hell backup hour internet use even put mobil idl get discharg biggest lie amazon lenov expect make full say batteri mah booster charger fake take least hour fulli charg know lenovo surviv make full us pleas go els regret like']],\n",
              " [['get cash back alreadi januari']],\n",
              " [['good']],\n",
              " [['worst phone everthey chang last phone problem still amazon return phone highli disappoint amazon']]]"
            ]
          },
          "metadata": {
            "tags": []
          },
          "execution_count": 22
        }
      ]
    },
    {
      "cell_type": "markdown",
      "metadata": {
        "id": "Xjp8MHLRY2JK",
        "colab_type": "text"
      },
      "source": [
        "Generally i feel lemmmitization makes more sense than stemming."
      ]
    },
    {
      "cell_type": "code",
      "metadata": {
        "id": "d1eE8GtCqK6Q",
        "colab_type": "code",
        "colab": {
          "base_uri": "https://localhost:8080/",
          "height": 50
        },
        "outputId": "9921cd48-e289-4aa8-ef9f-73e8eb906f5a"
      },
      "source": [
        "from nltk import sent_tokenize, word_tokenize\n",
        "nltk.download('wordnet')\n",
        "from nltk.corpus import stopwords\n",
        "from nltk import WordNetLemmatizer\n",
        "\n",
        "def clean_text(text):\n",
        "    \"\"\"\n",
        "    This function takes as input a text on which several \n",
        "    NLTK algorithms will be applied in order to preprocess it\n",
        "    \"\"\"\n",
        "    tokens = word_tokenize(text)\n",
        "    # Remove the punctuations\n",
        "    tokens = [word for word in tokens if word.isalpha()]\n",
        "    # Lower the tokens\n",
        "    tokens = [word.lower() for word in tokens]\n",
        "    # Remove stopword\n",
        "    tokens = [word for word in tokens if not word in stopwords.words(\"english\")]\n",
        "    # Lemmatize\n",
        "    lemma = WordNetLemmatizer()\n",
        "    tokens = [lemma.lemmatize(word, pos = \"v\") for word in tokens]\n",
        "    tokens = [lemma.lemmatize(word, pos = \"n\") for word in tokens]\n",
        "    return tokens\n",
        "\n",
        "final=[]\n",
        "for x in text:\n",
        "  final.append(clean_text(x))\n"
      ],
      "execution_count": null,
      "outputs": [
        {
          "output_type": "stream",
          "text": [
            "[nltk_data] Downloading package wordnet to /root/nltk_data...\n",
            "[nltk_data]   Unzipping corpora/wordnet.zip.\n"
          ],
          "name": "stdout"
        }
      ]
    },
    {
      "cell_type": "code",
      "metadata": {
        "id": "l_nMOujVrckG",
        "colab_type": "code",
        "colab": {
          "base_uri": "https://localhost:8080/",
          "height": 1000
        },
        "outputId": "7222c3f4-81c9-4c41-b205-f9923acbd178"
      },
      "source": [
        "final[:5]"
      ],
      "execution_count": null,
      "outputs": [
        {
          "output_type": "execute_result",
          "data": {
            "text/plain": [
              "[['good', 'need', 'update', 'improvement'],\n",
              " ['worst',\n",
              "  'mobile',\n",
              "  'buy',\n",
              "  'ever',\n",
              "  'battery',\n",
              "  'drain',\n",
              "  'like',\n",
              "  'hell',\n",
              "  'backup',\n",
              "  'hour',\n",
              "  'internet',\n",
              "  'use',\n",
              "  'even',\n",
              "  'put',\n",
              "  'mobile',\n",
              "  'idle',\n",
              "  'get',\n",
              "  'discharge',\n",
              "  'biggest',\n",
              "  'lie',\n",
              "  'amazon',\n",
              "  'lenove',\n",
              "  'expect',\n",
              "  'make',\n",
              "  'full',\n",
              "  'say',\n",
              "  'battery',\n",
              "  'mah',\n",
              "  'booster',\n",
              "  'charger',\n",
              "  'fake',\n",
              "  'take',\n",
              "  'least',\n",
              "  'hour',\n",
              "  'fully',\n",
              "  'charge',\n",
              "  'know',\n",
              "  'lenovo',\n",
              "  'survive',\n",
              "  'make',\n",
              "  'full',\n",
              "  'u',\n",
              "  'please',\n",
              "  'go',\n",
              "  'else',\n",
              "  'regret',\n",
              "  'like'],\n",
              " ['get', 'cash', 'back', 'already', 'january'],\n",
              " ['good'],\n",
              " ['worst',\n",
              "  'phone',\n",
              "  'everthey',\n",
              "  'change',\n",
              "  'last',\n",
              "  'phone',\n",
              "  'problem',\n",
              "  'still',\n",
              "  'amazon',\n",
              "  'return',\n",
              "  'phone',\n",
              "  'highly',\n",
              "  'disappoint',\n",
              "  'amazon']]"
            ]
          },
          "metadata": {
            "tags": []
          },
          "execution_count": 24
        }
      ]
    },
    {
      "cell_type": "code",
      "metadata": {
        "id": "2skPzfHMr1rI",
        "colab_type": "code",
        "colab": {
          "base_uri": "https://localhost:8080/",
          "height": 118
        },
        "outputId": "6b89e63b-8dd7-41af-fd09-2c2489e6fa60"
      },
      "source": [
        "lemma = WordNetLemmatizer()\n",
        "for verb in [\"was\", \"torn\", \"threw\", \"swore\", \"swears\", \"mapped\"]:\n",
        "    print(lemma.lemmatize(verb, pos = \"v\"))"
      ],
      "execution_count": null,
      "outputs": [
        {
          "output_type": "stream",
          "text": [
            "be\n",
            "tear\n",
            "throw\n",
            "swear\n",
            "swear\n",
            "map\n"
          ],
          "name": "stdout"
        }
      ]
    },
    {
      "cell_type": "code",
      "metadata": {
        "id": "pHU_Nhd6VWjP",
        "colab_type": "code",
        "colab": {
          "base_uri": "https://localhost:8080/",
          "height": 50
        },
        "outputId": "4f77712a-ccba-4c6a-fd8e-76969f364cd2"
      },
      "source": [
        "print(lemma.lemmatize(\"was\"))\n",
        "print(lemma.lemmatize(\"was\",pos='v'))\n"
      ],
      "execution_count": null,
      "outputs": [
        {
          "output_type": "stream",
          "text": [
            "wa\n",
            "be\n"
          ],
          "name": "stdout"
        }
      ]
    },
    {
      "cell_type": "code",
      "metadata": {
        "id": "kWDVooL2VzAa",
        "colab_type": "code",
        "colab": {
          "base_uri": "https://localhost:8080/",
          "height": 67
        },
        "outputId": "bc811b42-2023-476f-9c46-5a426faff148"
      },
      "source": [
        "nltk.download('averaged_perceptron_tagger')\n",
        "from nltk.tag import pos_tag\n",
        "\n",
        "final2=[]\n",
        "for sent in final:\n",
        "  final2.append(pos_tag(sent))\n"
      ],
      "execution_count": null,
      "outputs": [
        {
          "output_type": "stream",
          "text": [
            "[nltk_data] Downloading package averaged_perceptron_tagger to\n",
            "[nltk_data]     /root/nltk_data...\n",
            "[nltk_data]   Unzipping taggers/averaged_perceptron_tagger.zip.\n"
          ],
          "name": "stdout"
        }
      ]
    },
    {
      "cell_type": "code",
      "metadata": {
        "id": "wVtWYe4aaRdI",
        "colab_type": "code",
        "colab": {
          "base_uri": "https://localhost:8080/",
          "height": 1000
        },
        "outputId": "24982ec8-bde9-4767-fa40-08b44dddb2a6"
      },
      "source": [
        "\n",
        "final2[:5]"
      ],
      "execution_count": null,
      "outputs": [
        {
          "output_type": "execute_result",
          "data": {
            "text/plain": [
              "[[('good', 'JJ'), ('need', 'NN'), ('update', 'JJ'), ('improvement', 'NN')],\n",
              " [('worst', 'JJS'),\n",
              "  ('mobile', 'NN'),\n",
              "  ('buy', 'NN'),\n",
              "  ('ever', 'RB'),\n",
              "  ('battery', 'RB'),\n",
              "  ('drain', 'VBP'),\n",
              "  ('like', 'IN'),\n",
              "  ('hell', 'NN'),\n",
              "  ('backup', 'IN'),\n",
              "  ('hour', 'NN'),\n",
              "  ('internet', 'NN'),\n",
              "  ('use', 'NN'),\n",
              "  ('even', 'RB'),\n",
              "  ('put', 'VBD'),\n",
              "  ('mobile', 'RP'),\n",
              "  ('idle', 'JJ'),\n",
              "  ('get', 'VB'),\n",
              "  ('discharge', 'JJ'),\n",
              "  ('biggest', 'JJS'),\n",
              "  ('lie', 'NN'),\n",
              "  ('amazon', 'NN'),\n",
              "  ('lenove', 'VBP'),\n",
              "  ('expect', 'VBP'),\n",
              "  ('make', 'VBP'),\n",
              "  ('full', 'JJ'),\n",
              "  ('say', 'VBP'),\n",
              "  ('battery', 'NN'),\n",
              "  ('mah', 'NN'),\n",
              "  ('booster', 'NN'),\n",
              "  ('charger', 'NN'),\n",
              "  ('fake', 'VBP'),\n",
              "  ('take', 'VB'),\n",
              "  ('least', 'JJS'),\n",
              "  ('hour', 'NN'),\n",
              "  ('fully', 'RB'),\n",
              "  ('charge', 'NN'),\n",
              "  ('know', 'JJ'),\n",
              "  ('lenovo', 'VBZ'),\n",
              "  ('survive', 'JJ'),\n",
              "  ('make', 'VBP'),\n",
              "  ('full', 'JJ'),\n",
              "  ('u', 'NN'),\n",
              "  ('please', 'NN'),\n",
              "  ('go', 'VB'),\n",
              "  ('else', 'RB'),\n",
              "  ('regret', 'NN'),\n",
              "  ('like', 'IN')],\n",
              " [('get', 'VB'),\n",
              "  ('cash', 'NN'),\n",
              "  ('back', 'RB'),\n",
              "  ('already', 'RB'),\n",
              "  ('january', 'JJ')],\n",
              " [('good', 'JJ')],\n",
              " [('worst', 'RB'),\n",
              "  ('phone', 'NN'),\n",
              "  ('everthey', 'NN'),\n",
              "  ('change', 'NN'),\n",
              "  ('last', 'JJ'),\n",
              "  ('phone', 'NN'),\n",
              "  ('problem', 'NN'),\n",
              "  ('still', 'RB'),\n",
              "  ('amazon', 'VBZ'),\n",
              "  ('return', 'VB'),\n",
              "  ('phone', 'NN'),\n",
              "  ('highly', 'RB'),\n",
              "  ('disappoint', 'JJ'),\n",
              "  ('amazon', 'NN')]]"
            ]
          },
          "metadata": {
            "tags": []
          },
          "execution_count": 29
        }
      ]
    },
    {
      "cell_type": "code",
      "metadata": {
        "id": "rBrHET1gaS7Z",
        "colab_type": "code",
        "colab": {}
      },
      "source": [
        "final3=[]\n",
        "for sent in final2:\n",
        "  ex=[]\n",
        "  for (word,tag) in sent:\n",
        "    if tag in ['NN','NNS']:\n",
        "      ex.append(word)\n",
        "  final3.append(ex)"
      ],
      "execution_count": null,
      "outputs": []
    },
    {
      "cell_type": "code",
      "metadata": {
        "id": "3zMqXkoKqbUt",
        "colab_type": "code",
        "colab": {
          "base_uri": "https://localhost:8080/",
          "height": 370
        },
        "outputId": "590bfee5-03be-4ac0-a1ef-5c04ee0be26b"
      },
      "source": [
        "final3[:5]"
      ],
      "execution_count": null,
      "outputs": [
        {
          "output_type": "execute_result",
          "data": {
            "text/plain": [
              "[['need', 'improvement'],\n",
              " ['mobile',\n",
              "  'buy',\n",
              "  'hell',\n",
              "  'hour',\n",
              "  'internet',\n",
              "  'use',\n",
              "  'lie',\n",
              "  'amazon',\n",
              "  'battery',\n",
              "  'mah',\n",
              "  'booster',\n",
              "  'charger',\n",
              "  'hour',\n",
              "  'charge',\n",
              "  'u',\n",
              "  'please',\n",
              "  'regret'],\n",
              " ['cash'],\n",
              " [],\n",
              " ['phone', 'everthey', 'change', 'phone', 'problem', 'phone', 'amazon']]"
            ]
          },
          "metadata": {
            "tags": []
          },
          "execution_count": 31
        }
      ]
    },
    {
      "cell_type": "code",
      "metadata": {
        "id": "nB8v7gId0b0B",
        "colab_type": "code",
        "colab": {}
      },
      "source": [
        "final4=[]\n",
        "for sent in final3:\n",
        "  final4.append(' '.join(x for x in sent))\n",
        "\n",
        "  "
      ],
      "execution_count": null,
      "outputs": []
    },
    {
      "cell_type": "code",
      "metadata": {
        "id": "4oA3bkLd0urD",
        "colab_type": "code",
        "colab": {
          "base_uri": "https://localhost:8080/",
          "height": 101
        },
        "outputId": "d289aa23-5aa6-46bc-d063-a0719a8c9d29"
      },
      "source": [
        "final4[:5]"
      ],
      "execution_count": null,
      "outputs": [
        {
          "output_type": "execute_result",
          "data": {
            "text/plain": [
              "['need improvement',\n",
              " 'mobile buy hell hour internet use lie amazon battery mah booster charger hour charge u please regret',\n",
              " 'cash',\n",
              " '',\n",
              " 'phone everthey change phone problem phone amazon']"
            ]
          },
          "metadata": {
            "tags": []
          },
          "execution_count": 33
        }
      ]
    },
    {
      "cell_type": "code",
      "metadata": {
        "id": "tgJCkFZ0qq6t",
        "colab_type": "code",
        "colab": {}
      },
      "source": [
        "\n",
        "from sklearn.feature_extraction.text import TfidfTransformer\n",
        "from sklearn.feature_extraction.text import TfidfVectorizer\n",
        "\n",
        "from sklearn.feature_extraction.text import CountVectorizer\n",
        "tf_idf_vect = TfidfVectorizer(ngram_range=(1,2), min_df=10)\n",
        "tf_idf_vect.fit(final4)\n",
        "final_tf=tf_idf_vect.transform(final4)"
      ],
      "execution_count": null,
      "outputs": []
    },
    {
      "cell_type": "code",
      "metadata": {
        "id": "Oxxej7L-zchV",
        "colab_type": "code",
        "colab": {
          "base_uri": "https://localhost:8080/",
          "height": 101
        },
        "outputId": "71995009-9e6b-4521-a501-0023ad97bcdc"
      },
      "source": [
        "final_tf.toarray()[:5]"
      ],
      "execution_count": null,
      "outputs": [
        {
          "output_type": "execute_result",
          "data": {
            "text/plain": [
              "array([[0., 0., 0., ..., 0., 0., 0.],\n",
              "       [0., 0., 0., ..., 0., 0., 0.],\n",
              "       [0., 0., 0., ..., 0., 0., 0.],\n",
              "       [0., 0., 0., ..., 0., 0., 0.],\n",
              "       [0., 0., 0., ..., 0., 0., 0.]])"
            ]
          },
          "metadata": {
            "tags": []
          },
          "execution_count": 35
        }
      ]
    },
    {
      "cell_type": "code",
      "metadata": {
        "id": "DswHRARi0_9Y",
        "colab_type": "code",
        "colab": {
          "base_uri": "https://localhost:8080/",
          "height": 229
        },
        "outputId": "a97cd88c-99b7-43f6-fbac-90bfe083c497"
      },
      "source": [
        "import gensim\n",
        "lda_model =  gensim.models.LdaMulticore(final_tf, \n",
        "                                   num_topics = 12, \n",
        "                                   id2word = dictionary,                                    \n",
        "                                   passes = 10,\n",
        "                                   workers = 2)\n",
        "\n"
      ],
      "execution_count": null,
      "outputs": [
        {
          "output_type": "error",
          "ename": "NameError",
          "evalue": "ignored",
          "traceback": [
            "\u001b[0;31m---------------------------------------------------------------------------\u001b[0m",
            "\u001b[0;31mNameError\u001b[0m                                 Traceback (most recent call last)",
            "\u001b[0;32m<ipython-input-36-ae88f4564f10>\u001b[0m in \u001b[0;36m<module>\u001b[0;34m()\u001b[0m\n\u001b[1;32m      2\u001b[0m lda_model =  gensim.models.LdaMulticore(final_tf, \n\u001b[1;32m      3\u001b[0m                                    \u001b[0mnum_topics\u001b[0m \u001b[0;34m=\u001b[0m \u001b[0;36m12\u001b[0m\u001b[0;34m,\u001b[0m\u001b[0;34m\u001b[0m\u001b[0;34m\u001b[0m\u001b[0m\n\u001b[0;32m----> 4\u001b[0;31m                                    \u001b[0mid2word\u001b[0m \u001b[0;34m=\u001b[0m \u001b[0mdictionary\u001b[0m\u001b[0;34m,\u001b[0m\u001b[0;34m\u001b[0m\u001b[0;34m\u001b[0m\u001b[0m\n\u001b[0m\u001b[1;32m      5\u001b[0m                                    \u001b[0mpasses\u001b[0m \u001b[0;34m=\u001b[0m \u001b[0;36m10\u001b[0m\u001b[0;34m,\u001b[0m\u001b[0;34m\u001b[0m\u001b[0;34m\u001b[0m\u001b[0m\n\u001b[1;32m      6\u001b[0m                                    workers = 2)\n",
            "\u001b[0;31mNameError\u001b[0m: name 'dictionary' is not defined"
          ]
        }
      ]
    },
    {
      "cell_type": "code",
      "metadata": {
        "id": "QplUwC9S3Tib",
        "colab_type": "code",
        "colab": {}
      },
      "source": [
        "from sklearn.decomposition import LatentDirichletAllocation as LDA\n",
        " \n",
        "# Helper function\n",
        "def print_topics(model, count_vectorizer, n_top_words):\n",
        "    words = count_vectorizer.get_feature_names()\n",
        "    for topic_idx, topic in enumerate(model.components_):\n",
        "        print(\"\\nTopic #%d:\" % topic_idx)\n",
        "        print(\" \".join([words[i]\n",
        "                        for i in topic.argsort()[:-n_top_words - 1:-1]]))"
      ],
      "execution_count": null,
      "outputs": []
    },
    {
      "cell_type": "code",
      "metadata": {
        "id": "eP4_KzlZ4V1d",
        "colab_type": "code",
        "colab": {
          "base_uri": "https://localhost:8080/",
          "height": 538
        },
        "outputId": "4a49463d-96b7-4673-e14b-a0db98163d5f"
      },
      "source": [
        "number_topics = 10\n",
        "number_words = 10\n",
        "# Create and fit the LDA model\n",
        "lda = LDA(n_components=number_topics, n_jobs=-1)\n",
        "lda.fit(final_tf)\n",
        "# Print the topics found by the LDA model\n",
        "print(\"Topics found via LDA:\")\n",
        "print_topics(lda,tf_idf_vect , number_words)"
      ],
      "execution_count": null,
      "outputs": [
        {
          "output_type": "stream",
          "text": [
            "Topics found via LDA:\n",
            "\n",
            "Topic #0:\n",
            "super camera battery performance problem hang phone hai heat battery performance\n",
            "\n",
            "Topic #1:\n",
            "phone camera game use heat get charge mode processor feature\n",
            "\n",
            "Topic #2:\n",
            "mobile battery charge drain charger hour life battery drain waste satisfy\n",
            "\n",
            "Topic #3:\n",
            "product camera excellent good thank lenovo amazon smartphone expectation budget\n",
            "\n",
            "Topic #4:\n",
            "quality money camera camera quality value value money worth phone product sound\n",
            "\n",
            "Topic #5:\n",
            "price range phone price phone love amaze price range delivery product product price\n",
            "\n",
            "Topic #6:\n",
            "heat performance problem heat problem ok call glass phone record mobile\n",
            "\n",
            "Topic #7:\n",
            "backup battery backup battery feature awesome use camera phone everything day\n",
            "\n",
            "Topic #8:\n",
            "work note speaker superb phone cast lenovo handset headphone camera\n",
            "\n",
            "Topic #9:\n",
            "issue phone heat problem charge network time heat issue service battery\n"
          ],
          "name": "stdout"
        }
      ]
    },
    {
      "cell_type": "code",
      "metadata": {
        "id": "WeEyKuF44_YJ",
        "colab_type": "code",
        "colab": {}
      },
      "source": [
        ""
      ],
      "execution_count": null,
      "outputs": []
    }
  ]
}